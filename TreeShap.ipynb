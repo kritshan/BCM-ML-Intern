{
 "cells": [
  {
   "cell_type": "code",
   "execution_count": 30,
   "metadata": {},
   "outputs": [],
   "source": [
    "import pandas as pd\n",
    "import xgboost as xgb\n",
    "from sklearn.preprocessing import LabelEncoder\n",
    "from sklearn.ensemble import RandomForestClassifier\n",
    "from sklearn.model_selection import RandomizedSearchCV\n",
    "\n",
    "# function to find the key of the value when label encoding the classes\n",
    "def key_find(classes, pred):\n",
    "    for key, val in classes.items():\n",
    "        if pred == val:\n",
    "            return key\n",
    "        \n",
    "        \n",
    "label_encoder = LabelEncoder()\n",
    "\n",
    "# get data and instantiate Random Forest Classifier\n",
    "X = pd.read_csv(\"/Users/kritinshanmugam/Desktop/gene_expression.csv\")\n",
    "y = pd.read_csv(\"/Users/kritinshanmugam/Desktop/label.csv\")\n",
    "\n",
    "# Handle missing values\n",
    "X = X.dropna()\n",
    "y = y.dropna()\n",
    "\n",
    "# Drop ID column\n",
    "X = X.iloc[:, 1:]\n",
    "\n",
    "# Drop the first column of cell ID\n",
    "y = y.iloc[:, 1:]\n",
    "\n",
    "# Standardize features\n",
    "X = (X - X.mean()) / X.std()\n",
    "\n",
    "# Create copy of original (untransformed) y data to compare later with predictions\n",
    "y_orig = y.copy()"
   ]
  },
  {
   "cell_type": "code",
   "execution_count": 31,
   "metadata": {},
   "outputs": [],
   "source": [
    "from sklearn.model_selection import train_test_split\n",
    "\n",
    "# Combine data sets for ease of splitting into train and test data sets\n",
    "combined_XY = pd.concat([X, y], axis=1)\n",
    "\n",
    "# One-hot encode the target variable\n",
    "combined_XY['Annotation'] = label_encoder.fit_transform(combined_XY['Annotation'])\n",
    "\n",
    "# Print the mapping between original classes and encoded integers\n",
    "class_mapping = dict(zip(label_encoder.classes_, label_encoder.transform(label_encoder.classes_)))\n",
    "\n",
    "# Split the data into train and test sets\n",
    "train, test = train_test_split(combined_XY, test_size=0.25, stratify=y['Time point'])\n",
    "\n",
    "# Get the train/test data for the features\n",
    "x_train = train.drop(columns=['Time point', 'Annotation'], axis=1)\n",
    "x_test = test.drop(columns=['Time point', 'Annotation'], axis=1)\n",
    "\n",
    "# Get the train/test data for the target \n",
    "y_train = train['Annotation']\n",
    "y_test = test['Annotation']"
   ]
  },
  {
   "cell_type": "code",
   "execution_count": 32,
   "metadata": {},
   "outputs": [
    {
     "name": "stdout",
     "output_type": "stream",
     "text": [
      "[796, 2263]\n"
     ]
    }
   ],
   "source": [
    "# Train the random forest model\n",
    "classifier = RandomForestClassifier(random_state=31)\n",
    "\n",
    "classifier.fit(x_train, y_train)\n",
    "\n",
    "# Obtain the predictions\n",
    "y_predictions = classifier.predict(x_test)\n",
    "\n",
    "# Convert predictions and test data to a Pandas Data Frame\n",
    "y_predictions = pd.DataFrame(y_predictions)\n",
    "y_test = pd.DataFrame(y_test)\n",
    "\n",
    "# parameters for the model\n",
    "params = {\n",
    "    'n_estimators': [200, 600, 1_000, 1_400, 1_800],\n",
    "    'max_depth': [3, 5, 7, 10, 13],\n",
    "    'min_sample_split': [2, 5, 8, 11, 14, 17],\n",
    "    'min_sample_leaf' : [2, 4, 6, 8],\n",
    "    'max_features': [2, 4, 6, 8]\n",
    "}\n",
    "\n",
    "\n",
    "# Instantiate an empty dataframe to store the predictions in pre-transform format\n",
    "predicted = pd.DataFrame({'predicted_class': []})\n",
    "\n",
    "# Loop through the predictions and transform them back from the binary state\n",
    "for prediction in y_predictions:\n",
    "    class_pred = key_find(class_mapping, prediction)\n",
    "    predicted.loc[len(predicted)] = class_pred\n",
    "\n",
    "# Create list to store rows that have mispredicted cell types\n",
    "incorrect_list = []\n",
    "\n",
    "\n",
    "for row in range(len(y_predictions)):\n",
    "    if y_predictions.iloc[row, 0] != y_test.iloc[row, 0]:\n",
    "        incorrect_list.append(row)\n",
    "        \n",
    "print(incorrect_list)\n"
   ]
  },
  {
   "cell_type": "code",
   "execution_count": 33,
   "metadata": {},
   "outputs": [
    {
     "data": {
      "text/plain": [
       "<sklearn.metrics._plot.confusion_matrix.ConfusionMatrixDisplay at 0x14da90850>"
      ]
     },
     "execution_count": 33,
     "metadata": {},
     "output_type": "execute_result"
    },
    {
     "data": {
      "image/png": "[encoded data removed]",
      "text/plain": [
       "<Figure size 640x480 with 2 Axes>"
      ]
     },
     "metadata": {},
     "output_type": "display_data"
    }
   ],
   "source": [
    "from sklearn.metrics import confusion_matrix\n",
    "from sklearn.metrics import ConfusionMatrixDisplay\n",
    "\n",
    "# Get the actual values and predicted values in array-like format\n",
    "actual = y_test.values\n",
    "\n",
    "predicted = y_predictions.values\n",
    "\n",
    "# Generate a confusion matrix\n",
    "confusion = confusion_matrix(actual, predicted, labels=classifier.classes_) \n",
    "\n",
    "# Generate display for confusion matrix\n",
    "display = ConfusionMatrixDisplay(confusion_matrix=confusion, display_labels=classifier.classes_)\n",
    "\n",
    "display.plot()"
   ]
  },
  {
   "cell_type": "code",
   "execution_count": 43,
   "metadata": {},
   "outputs": [
    {
     "name": "stderr",
     "output_type": "stream",
     "text": [
      " 99%|===================| 4971/5010 [01:08<00:00]        "
     ]
    },
    {
     "name": "stdout",
     "output_type": "stream",
     "text": [
      "2505\n",
      "[796, 2263]\n"
     ]
    },
    {
     "data": {
      "text/plain": [
       "'\\nfor row in incorrect_list:\\n    shap.plots.waterfall(shap_values[row])\\n'"
      ]
     },
     "execution_count": 43,
     "metadata": {},
     "output_type": "execute_result"
    }
   ],
   "source": [
    "import shap\n",
    "\n",
    "explainer = shap.TreeExplainer(classifier, x_test)\n",
    "shap_values = explainer(x_test)\n",
    "\n",
    "for row in incorrect_list:\n",
    "    shap.plots.waterfall(shap_values[row])\n"
   ]
  },
  {
   "cell_type": "code",
   "execution_count": null,
   "metadata": {},
   "outputs": [],
   "source": []
  }
 ],
 "metadata": {
  "kernelspec": {
   "display_name": "base",
   "language": "python",
   "name": "python3"
  },
  "language_info": {
   "codemirror_mode": {
    "name": "ipython",
    "version": 3
   },
   "file_extension": ".py",
   "mimetype": "text/x-python",
   "name": "python",
   "nbconvert_exporter": "python",
   "pygments_lexer": "ipython3",
   "version": "3.11.5"
  }
 },
 "nbformat": 4,
 "nbformat_minor": 2
}
