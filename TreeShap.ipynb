{
 "cells": [
  {
   "cell_type": "code",
   "execution_count": 39,
   "metadata": {},
   "outputs": [
    {
     "name": "stdout",
     "output_type": "stream",
     "text": [
      "   0610007P14Rik  0610009B22Rik  0610009L18Rik  0610009O20Rik  0610010F05Rik  \\\n",
      "0       1.387721            0.0            0.0            0.0            0.0   \n",
      "1       0.000000            0.0            0.0            0.0            0.0   \n",
      "2       0.000000            0.0            0.0            0.0            0.0   \n",
      "3       0.000000            0.0            0.0            0.0            0.0   \n",
      "4       0.000000            0.0            0.0            0.0            0.0   \n",
      "\n",
      "   0610012D04Rik  0610012G03Rik  0610025J13Rik  0610030E20Rik  0610031O16Rik  \\\n",
      "0            0.0            0.0            0.0            0.0            0.0   \n",
      "1            0.0            0.0            0.0            0.0            0.0   \n",
      "2            0.0            0.0            0.0            0.0            0.0   \n",
      "3            0.0            0.0            0.0            0.0            0.0   \n",
      "4            0.0            0.0            0.0            0.0            0.0   \n",
      "\n",
      "   ...    mt-Co2    mt-Co3   mt-Cytb  mt-Nd1    mt-Nd2    mt-Nd3    mt-Nd4  \\\n",
      "0  ...  0.000000  2.774372  1.387721     0.0  1.387721  1.387721  1.387721   \n",
      "1  ...  0.000000  0.000000  0.000000     0.0  0.000000  0.000000  0.000000   \n",
      "2  ...  0.000000  3.139104  0.000000     0.0  0.000000  0.000000  1.543411   \n",
      "3  ...  2.883073  2.408876  1.475637     0.0  1.475637  0.000000  1.475637   \n",
      "4  ...  2.755413  3.565702  0.000000     0.0  0.000000  0.000000  1.776507   \n",
      "\n",
      "   mt-Nd4l    mt-Nd5  mt-Nd6  \n",
      "0      0.0  0.000000     0.0  \n",
      "1      0.0  0.000000     0.0  \n",
      "2      0.0  1.543411     0.0  \n",
      "3      0.0  0.000000     0.0  \n",
      "4      0.0  0.000000     0.0  \n",
      "\n",
      "[5 rows x 21215 columns]\n",
      "(14779, 21215)\n"
     ]
    }
   ],
   "source": [
    "import pandas as pd\n",
    "\n",
    "names = pd.read_csv(\"/Users/kritinshanmugam/Desktop/names.csv\", header=None)\n",
    "names_list = names.iloc[:, 0].tolist()\n",
    "\n",
    "X = pd.read_csv(\"/Users/kritinshanmugam/Desktop/genes.csv\", header=None, names=names_list)\n",
    "y = pd.read_csv(\"/Users/kritinshanmugam/Desktop/labels.csv\", header=None, names = ['Label'])\n",
    "\n",
    "print(X.head())\n",
    "print(X.shape)\n"
   ]
  },
  {
   "cell_type": "code",
   "execution_count": 38,
   "metadata": {},
   "outputs": [
    {
     "name": "stdout",
     "output_type": "stream",
     "text": [
      "   0610007P14Rik  0610009B22Rik  0610009L18Rik  0610009O20Rik  0610010F05Rik  \\\n",
      "0       6.357779      -0.129192      -0.133012      -0.339486      -0.441585   \n",
      "1      -0.177072      -0.129192      -0.133012      -0.339486      -0.441585   \n",
      "2      -0.177072      -0.129192      -0.133012      -0.339486      -0.441585   \n",
      "3      -0.177072      -0.129192      -0.133012      -0.339486      -0.441585   \n",
      "4      -0.177072      -0.129192      -0.133012      -0.339486      -0.441585   \n",
      "\n",
      "   0610012D04Rik  0610012G03Rik  0610025J13Rik  0610030E20Rik  0610031O16Rik  \\\n",
      "0      -0.048584      -0.218664      -0.071389      -0.290955      -0.011646   \n",
      "1      -0.048584      -0.218664      -0.071389      -0.290955      -0.011646   \n",
      "2      -0.048584      -0.218664      -0.071389      -0.290955      -0.011646   \n",
      "3      -0.048584      -0.218664      -0.071389      -0.290955      -0.011646   \n",
      "4      -0.048584      -0.218664      -0.071389      -0.290955      -0.011646   \n",
      "\n",
      "   ...    mt-Co2    mt-Co3   mt-Cytb    mt-Nd1    mt-Nd2    mt-Nd3    mt-Nd4  \\\n",
      "0  ... -0.938403  1.116733  0.888012 -0.621394  0.884904  1.569081  0.672020   \n",
      "1  ... -0.938403 -1.068803 -0.650131 -0.621394 -0.629571 -0.466758 -0.708458   \n",
      "2  ... -0.938403  1.404054 -0.650131 -0.621394 -0.629571 -0.466758  0.826897   \n",
      "3  ...  1.498860  0.828810  0.985457 -0.621394  0.980850 -0.466758  0.759477   \n",
      "4  ...  1.390940  1.740110 -0.650131 -0.621394 -0.629571 -0.466758  1.058776   \n",
      "\n",
      "    mt-Nd4l    mt-Nd5    mt-Nd6  \n",
      "0 -0.260147 -0.428012 -0.133387  \n",
      "1 -0.260147 -0.428012 -0.133387  \n",
      "2 -0.260147  1.918965 -0.133387  \n",
      "3 -0.260147 -0.428012 -0.133387  \n",
      "4 -0.260147 -0.428012 -0.133387  \n",
      "\n",
      "[5 rows x 21215 columns]\n"
     ]
    }
   ],
   "source": [
    "import xgboost as xgb\n",
    "from sklearn.preprocessing import LabelEncoder\n",
    "from sklearn.ensemble import RandomForestClassifier\n",
    "\n",
    "# function to find the key of the value when label encoding the classes\n",
    "def key_find(classes, pred):\n",
    "    for key, val in classes.items():\n",
    "        if pred == val:\n",
    "            return key\n",
    "        \n",
    "          \n",
    "label_encoder = LabelEncoder()\n",
    "\n",
    "# Handle missing values\n",
    "X = X.dropna()\n",
    "y = y.dropna()\n",
    "\n",
    "# Standardize features\n",
    "X = (X - X.mean()) / X.std()\n",
    "\n",
    "# Create copy of original (untransformed) y data to compare later with predictions\n",
    "y_orig = y.copy()\n",
    "\n",
    "print(X.head())\n"
   ]
  },
  {
   "cell_type": "code",
   "execution_count": 40,
   "metadata": {},
   "outputs": [],
   "source": [
    "from sklearn.model_selection import train_test_split\n",
    "\n",
    "'''\n",
    "# Combine data sets for ease of splitting into train and test data sets\n",
    "combined_XY = pd.concat([X, y], axis=1)\n",
    "\n",
    "# One-hot encode the target variable\n",
    "combined_XY['Annotation'] = label_encoder.fit_transform(combined_XY['Annotation'])\n",
    "\n",
    "# Print the mapping between original classes and encoded integers\n",
    "class_mapping = dict(zip(label_encoder.classes_, label_encoder.transform(label_encoder.classes_)))\n",
    "\n",
    "# Split the data into train and test sets\n",
    "train, test = train_test_split(combined_XY, test_size=0.25, stratify=y['Time point'])\n",
    "\n",
    "# Get the train/test data for the features\n",
    "x_train = train.drop(columns=['Time point', 'Annotation'], axis=1)\n",
    "x_test = test.drop(columns=['Time point', 'Annotation'], axis=1)\n",
    "\n",
    "# Get the train/test data for the target \n",
    "y_train = train['Annotation']\n",
    "y_test = test['Annotation']\n",
    "'''\n",
    "\n",
    "x_train, x_test, y_train, y_test =train_test_split(X, y, test_size=0.25, random_state=31)"
   ]
  },
  {
   "cell_type": "code",
   "execution_count": 58,
   "metadata": {},
   "outputs": [
    {
     "name": "stdout",
     "output_type": "stream",
     "text": [
      "[14, 17, 18, 25, 26, 28, 29, 30, 33, 37, 41, 42, 51, 52, 63, 73, 78, 79, 81, 83, 87, 88, 97, 98, 105, 106, 107, 123, 127, 134, 139, 147, 156, 160, 161, 163, 171, 185, 186, 191, 193, 195, 202, 205, 210, 212, 214, 220, 228, 246, 254, 255, 259, 262, 277, 288, 297, 306, 323, 324, 325, 326, 332, 335, 336, 347, 348, 358, 361, 372, 376, 379, 388, 390, 403, 407, 414, 420, 435, 440, 447, 460, 463, 467, 472, 478, 502, 518, 521, 525, 531, 565, 568, 571, 572, 582, 584, 586, 588, 593, 597, 599, 604, 605, 613, 622, 627, 629, 631, 641, 643, 665, 677, 684, 704, 706, 709, 712, 730, 733, 739, 741, 742, 747, 749, 756, 759, 766, 768, 773, 774, 804, 813, 814, 822, 824, 827, 832, 839, 845, 847, 850, 853, 857, 865, 874, 877, 881, 884, 888, 890, 896, 897, 899, 903, 905, 909, 911, 915, 918, 938, 939, 943, 957, 967, 973, 974, 979, 980, 983, 995, 1000, 1002, 1003, 1004, 1006, 1011, 1014, 1022, 1023, 1024, 1032, 1051, 1052, 1054, 1060, 1068, 1071, 1078, 1082, 1086, 1094, 1102, 1104, 1111, 1112, 1116, 1127, 1137, 1148, 1150, 1153, 1165, 1171, 1173, 1175, 1176, 1182, 1184, 1185, 1187, 1195, 1198, 1199, 1212, 1213, 1215, 1221, 1225, 1226, 1227, 1235, 1239, 1241, 1242, 1243, 1244, 1249, 1254, 1257, 1262, 1263, 1270, 1290, 1291, 1296, 1298, 1299, 1302, 1308, 1309, 1311, 1314, 1319, 1322, 1331, 1361, 1365, 1366, 1368, 1370, 1371, 1379, 1380, 1403, 1412, 1422, 1447, 1449, 1455, 1456, 1464, 1468, 1469, 1475, 1483, 1484, 1487, 1489, 1501, 1516, 1517, 1519, 1521, 1522, 1531, 1536, 1542, 1552, 1563, 1565, 1567, 1582, 1583, 1590, 1596, 1605, 1606, 1618, 1620, 1623, 1632, 1655, 1658, 1664, 1673, 1676, 1680, 1682, 1690, 1692, 1697, 1711, 1718, 1728, 1730, 1731, 1745, 1746, 1748, 1750, 1764, 1766, 1771, 1780, 1784, 1785, 1789, 1792, 1793, 1794, 1803, 1811, 1813, 1821, 1830, 1848, 1854, 1855, 1864, 1866, 1881, 1882, 1901, 1912, 1916, 1950, 1952, 1960, 1962, 1963, 1972, 1983, 1985, 1995, 2000, 2007, 2011, 2015, 2020, 2032, 2037, 2038, 2044, 2055, 2083, 2088, 2090, 2095, 2102, 2103, 2107, 2110, 2117, 2121, 2122, 2126, 2137, 2141, 2144, 2145, 2147, 2166, 2168, 2170, 2175, 2191, 2199, 2206, 2222, 2223, 2235, 2243, 2245, 2246, 2252, 2255, 2261, 2273, 2277, 2278, 2279, 2290, 2297, 2301, 2302, 2306, 2313, 2314, 2316, 2317, 2319, 2320, 2326, 2334, 2338, 2350, 2359, 2364, 2369, 2370, 2379, 2380, 2387, 2392, 2393, 2407, 2409, 2410, 2412, 2413, 2419, 2420, 2424, 2427, 2434, 2435, 2436, 2441, 2448, 2451, 2454, 2456, 2461, 2469, 2474, 2478, 2480, 2483, 2487, 2493, 2497, 2499, 2504, 2510, 2514, 2515, 2528, 2533, 2549, 2551, 2554, 2560, 2573, 2575, 2585, 2587, 2589, 2595, 2600, 2617, 2623, 2630, 2638, 2646, 2648, 2656, 2658, 2663, 2666, 2669, 2671, 2675, 2676, 2688, 2689, 2691, 2712, 2725, 2726, 2730, 2741, 2751, 2753, 2762, 2772, 2799, 2806, 2818, 2828, 2837, 2839, 2841, 2844, 2852, 2864, 2865, 2866, 2868, 2872, 2873, 2899, 2900, 2901, 2913, 2918, 2924, 2925, 2929, 2931, 2939, 2941, 2944, 2947, 2948, 2953, 2954, 2964, 2981, 2985, 2990, 2991, 2993, 2999, 3000, 3001, 3015, 3021, 3027, 3030, 3035, 3040, 3041, 3045, 3046, 3049, 3056, 3066, 3069, 3074, 3079, 3082, 3083, 3088, 3090, 3095, 3096, 3097, 3098, 3099, 3102, 3104, 3107, 3108, 3118, 3143, 3152, 3160, 3167, 3175, 3176, 3181, 3184, 3186, 3187, 3196, 3197, 3202, 3205, 3209, 3211, 3213, 3216, 3223, 3224, 3240, 3243, 3244, 3258, 3273, 3276, 3279, 3281, 3287, 3294, 3296, 3301, 3305, 3312, 3315, 3316, 3334, 3337, 3341, 3350, 3355, 3358, 3359, 3366, 3369, 3373, 3377, 3380, 3383, 3384, 3400, 3403, 3413, 3423, 3429, 3433, 3435, 3443, 3448, 3449, 3459, 3465, 3489, 3494, 3507, 3512, 3535, 3537, 3548, 3550, 3562, 3570, 3571, 3572, 3573, 3575, 3577, 3579, 3580, 3581, 3591, 3593, 3600, 3618, 3621, 3624, 3630, 3639, 3642, 3648, 3657, 3658, 3659, 3665, 3675, 3684, 3691]\n"
     ]
    }
   ],
   "source": [
    "from sklearn.model_selection import RandomizedSearchCV\n",
    "import numpy as np\n",
    "\n",
    "# Train the random forest model\n",
    "classifier = RandomForestClassifier(max_depth=6, max_features=None, max_leaf_nodes=6, n_estimators=250, random_state=31)\n",
    "\n",
    "#y_train = np.array(y_train).ravel()\n",
    "\n",
    "classifier.fit(x_train, y_train)\n",
    "\n",
    "# Obtain the predictions\n",
    "y_predictions = classifier.predict(x_test)\n",
    "\n",
    "# Convert predictions and test data to a Pandas Data Frame\n",
    "y_predictions = pd.DataFrame(y_predictions)\n",
    "y_test = pd.DataFrame(y_test)\n",
    "\n",
    "'''\n",
    "# parameters for the model\n",
    "params = {\n",
    "    'n_estimators': [100, 150, 200, 250], \n",
    "    'max_features': ['sqrt', 'log2', None], \n",
    "    'max_depth': [3, 6, 9], \n",
    "    'max_leaf_nodes': [3, 6, 9], \n",
    "}\n",
    "\n",
    "rand_search = RandomizedSearchCV(classifier, param_distributions=params) \n",
    "rand_search.fit(x_train, np.array(y_train)) \n",
    "print(rand_search.best_estimator_) \n",
    "'''\n",
    "\n",
    "# Create list to store rows that have mispredicted cell types\n",
    "incorrect_list = []\n",
    "\n",
    "\n",
    "for row in range(len(y_predictions)):\n",
    "    if y_predictions.iloc[row, 0] != y_test.iloc[row, 0]:\n",
    "        incorrect_list.append(row)\n",
    "        \n",
    "print(incorrect_list)\n",
    "\n"
   ]
  },
  {
   "cell_type": "code",
   "execution_count": 61,
   "metadata": {},
   "outputs": [
    {
     "name": "stdout",
     "output_type": "stream",
     "text": [
      "306\n"
     ]
    }
   ],
   "source": [
    "from xgboost import XGBClassifier\n",
    "\n",
    "# Create XGBoost Classifier\n",
    "xg_classifier = XGBClassifier()\n",
    "\n",
    "#Fit XGBoost Classifier\n",
    "xg_classifier.fit(x_train, y_train)\n",
    "\n",
    "# Obtain predictions\n",
    "xg_preds = xg_classifier.predict(x_test)\n",
    "xg_preds = pd.DataFrame(xg_preds)\n",
    "\n",
    "# Create list to store incorrect predictions\n",
    "xg_incorrect = []\n",
    "\n",
    "for row in range(len(xg_preds)):\n",
    "    if xg_preds.iloc[row, 0] != y_test.iloc[row, 0]:\n",
    "        xg_incorrect.append(row)\n",
    "        \n",
    "print(len(xg_incorrect))"
   ]
  },
  {
   "cell_type": "code",
   "execution_count": 62,
   "metadata": {},
   "outputs": [
    {
     "name": "stdout",
     "output_type": "stream",
     "text": [
      "652\n",
      "3695\n"
     ]
    },
    {
     "data": {
      "image/png": "[encoded data removed]",
      "text/plain": [
       "<Figure size 640x480 with 2 Axes>"
      ]
     },
     "metadata": {},
     "output_type": "display_data"
    }
   ],
   "source": [
    "from sklearn.metrics import confusion_matrix\n",
    "from sklearn.metrics import ConfusionMatrixDisplay\n",
    "\n",
    "# Get the actual values and predicted values in array-like format\n",
    "actual = y_test.values\n",
    "\n",
    "predicted = xg_preds.values\n",
    "\n",
    "# Generate a confusion matrix\n",
    "confusion = confusion_matrix(actual, predicted, labels=xg_classifier.classes_) \n",
    "\n",
    "# Generate display for confusion matrix\n",
    "display = ConfusionMatrixDisplay(confusion_matrix=confusion, display_labels=xg_classifier.classes_)\n",
    "\n",
    "display.plot()\n",
    "\n",
    "print(len(incorrect_list))\n",
    "print(len(predicted))\n"
   ]
  },
  {
   "cell_type": "code",
   "execution_count": 43,
   "metadata": {},
   "outputs": [
    {
     "name": "stderr",
     "output_type": "stream",
     "text": [
      " 99%|===================| 4971/5010 [01:08<00:00]        "
     ]
    },
    {
     "name": "stdout",
     "output_type": "stream",
     "text": [
      "2505\n",
      "[796, 2263]\n"
     ]
    },
    {
     "data": {
      "text/plain": [
       "'\\nfor row in incorrect_list:\\n    shap.plots.waterfall(shap_values[row])\\n'"
      ]
     },
     "execution_count": 43,
     "metadata": {},
     "output_type": "execute_result"
    }
   ],
   "source": [
    "import shap\n",
    "\n",
    "explainer = shap.TreeExplainer(classifier, x_test)\n",
    "shap_values = explainer(x_test)\n",
    "\n",
    "for row in incorrect_list:\n",
    "    shap.plots.waterfall(shap_values[row])\n"
   ]
  },
  {
   "cell_type": "code",
   "execution_count": null,
   "metadata": {},
   "outputs": [],
   "source": [
    "# Create 100 models, train on 90% of dataset, find model with lowest score\n",
    "for i in range(100):\n",
    "    model = XGBClassifier()\n",
    "    \n",
    "# Go through each model, each datapoint, see how consistent the model is. \n",
    "\n"
   ]
  }
 ],
 "metadata": {
  "kernelspec": {
   "display_name": "base",
   "language": "python",
   "name": "python3"
  },
  "language_info": {
   "codemirror_mode": {
    "name": "ipython",
    "version": 3
   },
   "file_extension": ".py",
   "mimetype": "text/x-python",
   "name": "python",
   "nbconvert_exporter": "python",
   "pygments_lexer": "ipython3",
   "version": "3.11.5"
  }
 },
 "nbformat": 4,
 "nbformat_minor": 2
}
